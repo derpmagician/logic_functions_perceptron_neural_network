{
 "cells": [
  {
   "cell_type": "markdown",
   "id": "e14bebba-65a5-4796-9bfa-08e951b4469d",
   "metadata": {},
   "source": [
    "# Perceptron tabla de verdad OR"
   ]
  },
  {
   "cell_type": "code",
   "execution_count": 24,
   "id": "a917fc28-0890-461a-a9e2-b1197aef19d6",
   "metadata": {},
   "outputs": [],
   "source": [
    "import numpy as np"
   ]
  },
  {
   "cell_type": "code",
   "execution_count": 14,
   "id": "d63932bd-675d-47a1-9415-acc6db19c551",
   "metadata": {},
   "outputs": [],
   "source": [
    "LEARNING_RATE = 0.1\n",
    "X = np.array([[0,0],\n",
    "              [0,1],\n",
    "              [1,0],\n",
    "              [1,1]])\n",
    "y = np.array([0,1,1,1])"
   ]
  },
  {
   "cell_type": "code",
   "execution_count": 15,
   "id": "47bba3d4-1407-4302-b45a-cfd284f39d4d",
   "metadata": {},
   "outputs": [],
   "source": [
    "weights = np.zeros(len(X[0])+1)\n",
    "epochs = 10"
   ]
  },
  {
   "cell_type": "code",
   "execution_count": 17,
   "id": "93a0633b-7fef-4b3d-b40d-9216b20e30a9",
   "metadata": {},
   "outputs": [],
   "source": [
    "def activation_fn(z):\n",
    "    return 1 if z >= 0 else 0"
   ]
  },
  {
   "cell_type": "code",
   "execution_count": 18,
   "id": "3de9f9c8-3c11-41fb-9b5b-7e8aad0a09e0",
   "metadata": {},
   "outputs": [],
   "source": [
    "def predict(x):\n",
    "    x = np.insert(x,0,1) \n",
    "    z = np.dot(weights, x)\n",
    "    result_p = activation_fn(z)\n",
    "    return result_p\n",
    "    \n",
    "    "
   ]
  },
  {
   "cell_type": "code",
   "execution_count": 19,
   "id": "44e66043-283a-4075-9fa3-a8515ff7811f",
   "metadata": {},
   "outputs": [],
   "source": [
    "def train(X,y):\n",
    "    global weights\n",
    "    for _ in range(epochs):\n",
    "        for i in range(y.shape[0]):# 0\n",
    "            prediction = predict(X[i])# [0,0]\n",
    "            error = y[i] - prediction# 0\n",
    "            weights += LEARNING_RATE * error * np.insert(X[i],0,1)\n",
    "\n",
    "    print(weights)\n",
    "            "
   ]
  },
  {
   "cell_type": "code",
   "execution_count": 20,
   "id": "8f142d17-fc52-463d-a2d6-38fe96b280e8",
   "metadata": {},
   "outputs": [
    {
     "name": "stdout",
     "output_type": "stream",
     "text": [
      "[-0.1  0.1  0.1]\n"
     ]
    }
   ],
   "source": [
    "train(X,y)"
   ]
  },
  {
   "cell_type": "code",
   "execution_count": null,
   "id": "7e779128-d83a-4a9b-87b0-f77dc860ef39",
   "metadata": {},
   "outputs": [],
   "source": [
    "#  1*-0.1   +    0*0.1   +   0*0.1    = 0\n",
    "#  1*-0.1   +    0*0.1   +   1*0.1    = 1\n",
    "#  1*-0.1   +    1*0.1   +   0*0.1    = 1\n",
    "#  1*-0.1   +    1*0.1   +   1*0.1    = 1"
   ]
  }
 ],
 "metadata": {
  "kernelspec": {
   "display_name": "Python 3 (ipykernel)",
   "language": "python",
   "name": "python3"
  },
  "language_info": {
   "codemirror_mode": {
    "name": "ipython",
    "version": 3
   },
   "file_extension": ".py",
   "mimetype": "text/x-python",
   "name": "python",
   "nbconvert_exporter": "python",
   "pygments_lexer": "ipython3",
   "version": "3.12.2"
  }
 },
 "nbformat": 4,
 "nbformat_minor": 5
}
